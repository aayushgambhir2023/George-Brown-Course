{
 "cells": [
  {
   "cell_type": "markdown",
   "metadata": {
    "id": "xZ4JbOwVUJpM"
   },
   "source": [
    "<p style=\"font-family: Arial; font-size:3em;color:black;\"> Lab Exercise 8</p>"
   ]
  },
  {
   "cell_type": "code",
   "execution_count": 1,
   "metadata": {
    "colab": {
     "base_uri": "https://localhost:8080/"
    },
    "id": "x-rPI-WUZPbx",
    "outputId": "ae63e2e2-e436-42d8-aa24-92bd716d4bd4"
   },
   "outputs": [
    {
     "name": "stdout",
     "output_type": "stream",
     "text": [
      "Linear SVM Accuracy: 0.9\n",
      "Fitting 5 folds for each of 24 candidates, totalling 120 fits\n",
      "Best SVM Accuracy (GridSearchCV): 0.9\n",
      "Best Hyperparameters: {'C': 1, 'gamma': 'scale', 'kernel': 'linear'}\n",
      "\n",
      "Comparison of Model Accuracies:\n",
      "Linear SVM Accuracy: 0.9\n",
      "Optimized SVM Accuracy (GridSearchCV): 0.9\n"
     ]
    }
   ],
   "source": [
    "# Step 1: Basic Linear SVM\n",
    "\n",
    "# Import necessary libraries\n",
    "import numpy as np\n",
    "from sklearn import svm, datasets\n",
    "from sklearn.model_selection import train_test_split, GridSearchCV\n",
    "from sklearn.metrics import accuracy_score\n",
    "\n",
    "# Load the iris dataset\n",
    "iris = datasets.load_iris()\n",
    "X = iris.data[:, :2]  # Use only the first two features (Sepal Length, Sepal Width)\n",
    "y = iris.target  # The target labels ('setosa', 'versicolor', 'virginica')\n",
    "\n",
    "# Split the data into training and testing sets\n",
    "X_train, X_test, y_train, y_test = train_test_split(X, y, test_size=0.2, random_state=42)\n",
    "\n",
    "# Train a basic linear SVM model\n",
    "linear_svm = svm.SVC(kernel='rbf')\n",
    "linear_svm.fit(X_train, y_train)\n",
    "\n",
    "# Predict using the linear SVM model\n",
    "y_pred_linear = linear_svm.predict(X_test)\n",
    "\n",
    "# Calculate accuracy for the linear SVM\n",
    "accuracy_linear = accuracy_score(y_test, y_pred_linear)\n",
    "print(\"Linear SVM Accuracy:\", accuracy_linear)\n",
    "\n",
    "# Step 2: GridSearchCV for Hyperparameter Optimization\n",
    "\n",
    "# Define the hyperparameter grid\n",
    "param_grid = {\n",
    "    'C': [0.1, 1, 10, 100],\n",
    "    'gamma': ['scale', 'auto'],\n",
    "    'kernel': ['linear', 'rbf', 'poly']\n",
    "}\n",
    "\n",
    "# Set up GridSearchCV\n",
    "grid_search = GridSearchCV(svm.SVC(), param_grid, refit=True, verbose=1)\n",
    "grid_search.fit(X_train, y_train)\n",
    "\n",
    "# Get the best hyperparameters\n",
    "best_params = grid_search.best_params_\n",
    "\n",
    "# Predict using the best model from GridSearchCV\n",
    "y_pred_best = grid_search.predict(X_test)\n",
    "\n",
    "# Calculate accuracy for the optimized SVM\n",
    "accuracy_best = accuracy_score(y_test, y_pred_best)\n",
    "print(\"Best SVM Accuracy (GridSearchCV):\", accuracy_best)\n",
    "print(\"Best Hyperparameters:\", best_params)\n",
    "\n",
    "# Step 3: Compare Accuracies\n",
    "print(\"\\nComparison of Model Accuracies:\")\n",
    "print(\"Linear SVM Accuracy:\", accuracy_linear)\n",
    "print(\"Optimized SVM Accuracy (GridSearchCV):\", accuracy_best)\n"
   ]
  }
 ],
 "metadata": {
  "colab": {
   "provenance": []
  },
  "kernelspec": {
   "display_name": "Python 3 (ipykernel)",
   "language": "python",
   "name": "python3"
  },
  "language_info": {
   "codemirror_mode": {
    "name": "ipython",
    "version": 3
   },
   "file_extension": ".py",
   "mimetype": "text/x-python",
   "name": "python",
   "nbconvert_exporter": "python",
   "pygments_lexer": "ipython3",
   "version": "3.11.7"
  }
 },
 "nbformat": 4,
 "nbformat_minor": 4
}
