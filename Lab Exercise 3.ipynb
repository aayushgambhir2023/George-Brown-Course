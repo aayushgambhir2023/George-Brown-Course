{
 "cells": [
  {
   "cell_type": "markdown",
   "metadata": {},
   "source": [
    "<p style=\"font-family: Arial; font-size:3em;color:black;\"> Lab Exercise 3 </p>"
   ]
  },
  {
   "cell_type": "code",
   "execution_count": 2,
   "metadata": {},
   "outputs": [],
   "source": [
    "import numpy as np\n",
    "from numpy.linalg import inv\n",
    "from numpy.linalg import det"
   ]
  },
  {
   "cell_type": "code",
   "execution_count": 6,
   "metadata": {},
   "outputs": [],
   "source": [
    "matrix_a = np.array([[5,2, 3], [6, 1, 3],[2, 4, 1]])"
   ]
  },
  {
   "cell_type": "code",
   "execution_count": 7,
   "metadata": {},
   "outputs": [
    {
     "data": {
      "text/plain": [
       "array([[5, 2, 3],\n",
       "       [6, 1, 3],\n",
       "       [2, 4, 1]])"
      ]
     },
     "execution_count": 7,
     "metadata": {},
     "output_type": "execute_result"
    }
   ],
   "source": [
    "matrix_a"
   ]
  },
  {
   "cell_type": "code",
   "execution_count": 4,
   "metadata": {},
   "outputs": [
    {
     "name": "stdout",
     "output_type": "stream",
     "text": [
      "[[5 2]\n",
      " [6 1]]\n"
     ]
    }
   ],
   "source": [
    "matrix_b = np.array([[5,2],[6,1]])\n",
    "print(matrix_b)"
   ]
  },
  {
   "cell_type": "code",
   "execution_count": 5,
   "metadata": {},
   "outputs": [
    {
     "name": "stdout",
     "output_type": "stream",
     "text": [
      "[[1 3]\n",
      " [4 1]]\n"
     ]
    }
   ],
   "source": [
    "matrix_c= np.array([[1,3],[4,1]])\n",
    "print (matrix_c)"
   ]
  },
  {
   "cell_type": "code",
   "execution_count": 9,
   "metadata": {},
   "outputs": [
    {
     "name": "stdout",
     "output_type": "stream",
     "text": [
      "[[ 4 -7  4]\n",
      " [ 5  6 -1]\n",
      " [-4  2  5]]\n"
     ]
    }
   ],
   "source": [
    "matrix_d = np.array([[4, -7, 4], [5, 6, -1],[-4, 2, 5]])\n",
    "print(matrix_d)"
   ]
  },
  {
   "cell_type": "code",
   "execution_count": 11,
   "metadata": {},
   "outputs": [
    {
     "data": {
      "text/plain": [
       "(3, 3)"
      ]
     },
     "execution_count": 11,
     "metadata": {},
     "output_type": "execute_result"
    }
   ],
   "source": [
    "matrix_ad = np.matmul(matrix_a,matrix_d).shape\n",
    "matrix_ad"
   ]
  },
  {
   "cell_type": "code",
   "execution_count": 13,
   "metadata": {},
   "outputs": [
    {
     "data": {
      "text/plain": [
       "(3, 3)"
      ]
     },
     "execution_count": 13,
     "metadata": {},
     "output_type": "execute_result"
    }
   ],
   "source": [
    "matrix_da = np.matmul(matrix_d,matrix_a).shape\n",
    "matrix_da"
   ]
  },
  {
   "cell_type": "code",
   "execution_count": null,
   "metadata": {},
   "outputs": [],
   "source": [
    "##AD and DA are equal"
   ]
  },
  {
   "cell_type": "code",
   "execution_count": 17,
   "metadata": {},
   "outputs": [
    {
     "name": "stdout",
     "output_type": "stream",
     "text": [
      "\n",
      "Dot product of Matrix B with itself:\n",
      "[[37 12]\n",
      " [36 13]]\n"
     ]
    }
   ],
   "source": [
    "# Get the number of rows and columns\n",
    "num_rows = matrix_b.shape[0]\n",
    "num_cols = matrix_b.shape[1]\n",
    "\n",
    "# Initialize the result matrix with zeros\n",
    "result_matrix = np.zeros((num_rows, num_cols), dtype=int)\n",
    "\n",
    "# Compute the dot product manually\n",
    "for i in range(num_rows):\n",
    "    for j in range(num_cols):\n",
    "        sum_product = 0\n",
    "        for k in range(num_cols):\n",
    "            sum_product += matrix_b[i, k] * matrix_b[k, j]\n",
    "        result_matrix[i, j] = sum_product\n",
    "\n",
    "# Print the result matrix\n",
    "print(\"\\nDot product of Matrix B with itself:\")\n",
    "print(result_matrix)"
   ]
  },
  {
   "cell_type": "code",
   "execution_count": 16,
   "metadata": {},
   "outputs": [
    {
     "name": "stdout",
     "output_type": "stream",
     "text": [
      "\n",
      "Inverse of Matrix B:\n",
      "[[-0.14285714  0.28571429]\n",
      " [ 0.85714286 -0.71428571]]\n"
     ]
    }
   ],
   "source": [
    "# Define the matrix\n",
    "# Calculate the determinant\n",
    "determinant = (matrix_b[0, 0] * matrix_b[1, 1]) - (matrix_b[0, 1] * matrix_b[1, 0])\n",
    "\n",
    "# Calculate the matrix of cofactors\n",
    "cofactor_matrix = np.array([[matrix_b[1, 1], -matrix_b[0, 1]],\n",
    "                            [-matrix_b[1, 0], matrix_b[0, 0]]])\n",
    "\n",
    "# Calculate the inverse by dividing the cofactor matrix by the determinant\n",
    "inverse_matrix = cofactor_matrix / determinant\n",
    "\n",
    "# Print the results\n",
    "print(\"\\nInverse of Matrix B:\")\n",
    "print(inverse_matrix)\n"
   ]
  },
  {
   "cell_type": "code",
   "execution_count": 19,
   "metadata": {},
   "outputs": [
    {
     "data": {
      "text/plain": [
       "array([[-0.14285714,  0.28571429],\n",
       "       [ 0.85714286, -0.71428571]])"
      ]
     },
     "execution_count": 19,
     "metadata": {},
     "output_type": "execute_result"
    }
   ],
   "source": [
    "inverse_matrix_b = np.linalg.inv(matrix_b)\n",
    "inverse_matrix_b"
   ]
  },
  {
   "cell_type": "code",
   "execution_count": 20,
   "metadata": {},
   "outputs": [
    {
     "data": {
      "text/plain": [
       "array([[37, 12],\n",
       "       [36, 13]])"
      ]
     },
     "execution_count": 20,
     "metadata": {},
     "output_type": "execute_result"
    }
   ],
   "source": [
    "dot_matrix_b = np.dot(matrix_b, matrix_b)\n",
    "dot_matrix_b"
   ]
  },
  {
   "cell_type": "code",
   "execution_count": 22,
   "metadata": {},
   "outputs": [
    {
     "data": {
      "text/plain": [
       "array([[ 0.07785888,  0.10462287, -0.04136253],\n",
       "       [-0.05109489,  0.08759124,  0.05839416],\n",
       "       [ 0.08272506,  0.0486618 ,  0.14355231]])"
      ]
     },
     "execution_count": 22,
     "metadata": {},
     "output_type": "execute_result"
    }
   ],
   "source": [
    "inverse_matrix_d = np.linalg.inv(matrix_d)\n",
    "inverse_matrix_d"
   ]
  },
  {
   "cell_type": "code",
   "execution_count": 24,
   "metadata": {},
   "outputs": [
    {
     "data": {
      "text/plain": [
       "(3, 3)"
      ]
     },
     "execution_count": 24,
     "metadata": {},
     "output_type": "execute_result"
    }
   ],
   "source": [
    "d_d_minus_1 = np.matmul(matrix_d,inverse_matrix_d).shape\n",
    "d_d_minus_1"
   ]
  },
  {
   "cell_type": "code",
   "execution_count": 26,
   "metadata": {},
   "outputs": [
    {
     "data": {
      "text/plain": [
       "(3, 3)"
      ]
     },
     "execution_count": 26,
     "metadata": {},
     "output_type": "execute_result"
    }
   ],
   "source": [
    "d_minus_1_d = np.matmul(inverse_matrix_d,matrix_d).shape\n",
    "d_d_minus_1"
   ]
  }
 ],
 "metadata": {
  "kernelspec": {
   "display_name": "Python 3 (ipykernel)",
   "language": "python",
   "name": "python3"
  },
  "language_info": {
   "codemirror_mode": {
    "name": "ipython",
    "version": 3
   },
   "file_extension": ".py",
   "mimetype": "text/x-python",
   "name": "python",
   "nbconvert_exporter": "python",
   "pygments_lexer": "ipython3",
   "version": "3.11.7"
  }
 },
 "nbformat": 4,
 "nbformat_minor": 4
}
