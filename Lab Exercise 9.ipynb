{
 "cells": [
  {
   "cell_type": "markdown",
   "metadata": {},
   "source": [
    "<p style=\"font-family: Arial; font-size:3em;color:black;\"> Lab Exercise 9</p>"
   ]
  },
  {
   "cell_type": "code",
   "execution_count": 1,
   "metadata": {},
   "outputs": [],
   "source": [
    "# For this example, we will use K-Means Clustering Project database from Kaggle (https://www.kaggle.com/faressayah/k-means-clustering-private-vs-public-universities)\n",
    "# We actually have the labels for this data set, but we will NOT use them for the KMeans clustering algorithm, since that is an unsupervised learning algorithm.\n",
    "# As we will shortly see, we have a data frame with 777 observations on 18 variables.\n",
    "\n",
    "import pandas as pd\n",
    "import numpy as np\n",
    "import matplotlib.pyplot as plt\n",
    "from sklearn.preprocessing import StandardScaler\n",
    "from sklearn.cluster import KMeans\n",
    "from sklearn.metrics import confusion_matrix, classification_report\n",
    "%matplotlib inline"
   ]
  },
  {
   "cell_type": "code",
   "execution_count": 2,
   "metadata": {},
   "outputs": [
    {
     "data": {
      "text/plain": [
       "Index(['Private', 'Apps', 'Accept', 'Enroll', 'Top10perc', 'Top25perc',\n",
       "       'F.Undergrad', 'P.Undergrad', 'Outstate', 'Room.Board', 'Books',\n",
       "       'Personal', 'PhD', 'Terminal', 'S.F.Ratio', 'perc.alumni', 'Expend',\n",
       "       'Grad.Rate'],\n",
       "      dtype='object')"
      ]
     },
     "execution_count": 2,
     "metadata": {},
     "output_type": "execute_result"
    }
   ],
   "source": [
    "df = pd.read_csv('College_Data',index_col=0)\n",
    "df.columns"
   ]
  },
  {
   "cell_type": "code",
   "execution_count": 3,
   "metadata": {},
   "outputs": [
    {
     "name": "stderr",
     "output_type": "stream",
     "text": [
      "/opt/anaconda3/lib/python3.11/site-packages/sklearn/cluster/_kmeans.py:870: FutureWarning: The default value of `n_init` will change from 10 to 'auto' in 1.4. Set the value of `n_init` explicitly to suppress the warning\n",
      "  warnings.warn(\n",
      "/opt/anaconda3/lib/python3.11/site-packages/sklearn/cluster/_kmeans.py:870: FutureWarning: The default value of `n_init` will change from 10 to 'auto' in 1.4. Set the value of `n_init` explicitly to suppress the warning\n",
      "  warnings.warn(\n"
     ]
    },
    {
     "name": "stdout",
     "output_type": "stream",
     "text": [
      "Removed Features: ['Top10perc']\n",
      "[[114  98]\n",
      " [550  15]]\n",
      "              precision    recall  f1-score   support\n",
      "\n",
      "           0       0.17      0.54      0.26       212\n",
      "           1       0.13      0.03      0.04       565\n",
      "\n",
      "    accuracy                           0.17       777\n",
      "   macro avg       0.15      0.28      0.15       777\n",
      "weighted avg       0.14      0.17      0.10       777\n",
      "\n",
      "--------------------------------------------------\n",
      "Removed Features: ['Top25perc']\n",
      "[[ 82 130]\n",
      " [ 39 526]]\n",
      "              precision    recall  f1-score   support\n",
      "\n",
      "           0       0.68      0.39      0.49       212\n",
      "           1       0.80      0.93      0.86       565\n",
      "\n",
      "    accuracy                           0.78       777\n",
      "   macro avg       0.74      0.66      0.68       777\n",
      "weighted avg       0.77      0.78      0.76       777\n",
      "\n",
      "--------------------------------------------------\n"
     ]
    },
    {
     "name": "stderr",
     "output_type": "stream",
     "text": [
      "/opt/anaconda3/lib/python3.11/site-packages/sklearn/cluster/_kmeans.py:870: FutureWarning: The default value of `n_init` will change from 10 to 'auto' in 1.4. Set the value of `n_init` explicitly to suppress the warning\n",
      "  warnings.warn(\n",
      "/opt/anaconda3/lib/python3.11/site-packages/sklearn/cluster/_kmeans.py:870: FutureWarning: The default value of `n_init` will change from 10 to 'auto' in 1.4. Set the value of `n_init` explicitly to suppress the warning\n",
      "  warnings.warn(\n"
     ]
    },
    {
     "name": "stdout",
     "output_type": "stream",
     "text": [
      "Removed Features: ['Room.Board']\n",
      "[[138  74]\n",
      " [360 205]]\n",
      "              precision    recall  f1-score   support\n",
      "\n",
      "           0       0.28      0.65      0.39       212\n",
      "           1       0.73      0.36      0.49       565\n",
      "\n",
      "    accuracy                           0.44       777\n",
      "   macro avg       0.51      0.51      0.44       777\n",
      "weighted avg       0.61      0.44      0.46       777\n",
      "\n",
      "--------------------------------------------------\n",
      "Removed Features: ['F.Undergrad']\n",
      "[[166  46]\n",
      " [339 226]]\n",
      "              precision    recall  f1-score   support\n",
      "\n",
      "           0       0.33      0.78      0.46       212\n",
      "           1       0.83      0.40      0.54       565\n",
      "\n",
      "    accuracy                           0.50       777\n",
      "   macro avg       0.58      0.59      0.50       777\n",
      "weighted avg       0.69      0.50      0.52       777\n",
      "\n",
      "--------------------------------------------------\n"
     ]
    },
    {
     "name": "stderr",
     "output_type": "stream",
     "text": [
      "/opt/anaconda3/lib/python3.11/site-packages/sklearn/cluster/_kmeans.py:870: FutureWarning: The default value of `n_init` will change from 10 to 'auto' in 1.4. Set the value of `n_init` explicitly to suppress the warning\n",
      "  warnings.warn(\n"
     ]
    },
    {
     "name": "stdout",
     "output_type": "stream",
     "text": [
      "Removed Features: ['P.Undergrad']\n",
      "[[146  66]\n",
      " [339 226]]\n",
      "              precision    recall  f1-score   support\n",
      "\n",
      "           0       0.30      0.69      0.42       212\n",
      "           1       0.77      0.40      0.53       565\n",
      "\n",
      "    accuracy                           0.48       777\n",
      "   macro avg       0.54      0.54      0.47       777\n",
      "weighted avg       0.64      0.48      0.50       777\n",
      "\n",
      "--------------------------------------------------\n",
      "Removed Features: ['Books']\n",
      "[[152  60]\n",
      " [351 214]]\n",
      "              precision    recall  f1-score   support\n",
      "\n",
      "           0       0.30      0.72      0.43       212\n",
      "           1       0.78      0.38      0.51       565\n",
      "\n",
      "    accuracy                           0.47       777\n",
      "   macro avg       0.54      0.55      0.47       777\n",
      "weighted avg       0.65      0.47      0.49       777\n",
      "\n",
      "--------------------------------------------------\n"
     ]
    },
    {
     "name": "stderr",
     "output_type": "stream",
     "text": [
      "/opt/anaconda3/lib/python3.11/site-packages/sklearn/cluster/_kmeans.py:870: FutureWarning: The default value of `n_init` will change from 10 to 'auto' in 1.4. Set the value of `n_init` explicitly to suppress the warning\n",
      "  warnings.warn(\n",
      "/opt/anaconda3/lib/python3.11/site-packages/sklearn/cluster/_kmeans.py:870: FutureWarning: The default value of `n_init` will change from 10 to 'auto' in 1.4. Set the value of `n_init` explicitly to suppress the warning\n",
      "  warnings.warn(\n"
     ]
    },
    {
     "name": "stdout",
     "output_type": "stream",
     "text": [
      "Removed Features: ['S.F.Ratio']\n",
      "[[142  70]\n",
      " [348 217]]\n",
      "              precision    recall  f1-score   support\n",
      "\n",
      "           0       0.29      0.67      0.40       212\n",
      "           1       0.76      0.38      0.51       565\n",
      "\n",
      "    accuracy                           0.46       777\n",
      "   macro avg       0.52      0.53      0.46       777\n",
      "weighted avg       0.63      0.46      0.48       777\n",
      "\n",
      "--------------------------------------------------\n",
      "Removed Features: ['PhD']\n",
      "[[ 56 156]\n",
      " [210 355]]\n",
      "              precision    recall  f1-score   support\n",
      "\n",
      "           0       0.21      0.26      0.23       212\n",
      "           1       0.69      0.63      0.66       565\n",
      "\n",
      "    accuracy                           0.53       777\n",
      "   macro avg       0.45      0.45      0.45       777\n",
      "weighted avg       0.56      0.53      0.54       777\n",
      "\n",
      "--------------------------------------------------\n"
     ]
    },
    {
     "name": "stderr",
     "output_type": "stream",
     "text": [
      "/opt/anaconda3/lib/python3.11/site-packages/sklearn/cluster/_kmeans.py:870: FutureWarning: The default value of `n_init` will change from 10 to 'auto' in 1.4. Set the value of `n_init` explicitly to suppress the warning\n",
      "  warnings.warn(\n",
      "/opt/anaconda3/lib/python3.11/site-packages/sklearn/cluster/_kmeans.py:870: FutureWarning: The default value of `n_init` will change from 10 to 'auto' in 1.4. Set the value of `n_init` explicitly to suppress the warning\n",
      "  warnings.warn(\n"
     ]
    },
    {
     "name": "stdout",
     "output_type": "stream",
     "text": [
      "Removed Features: ['Expend']\n",
      "[[ 75 137]\n",
      " [222 343]]\n",
      "              precision    recall  f1-score   support\n",
      "\n",
      "           0       0.25      0.35      0.29       212\n",
      "           1       0.71      0.61      0.66       565\n",
      "\n",
      "    accuracy                           0.54       777\n",
      "   macro avg       0.48      0.48      0.48       777\n",
      "weighted avg       0.59      0.54      0.56       777\n",
      "\n",
      "--------------------------------------------------\n",
      "Removed Features: ['Personal', 'perc.alumni']\n",
      "[[132  80]\n",
      " [354 211]]\n",
      "              precision    recall  f1-score   support\n",
      "\n",
      "           0       0.27      0.62      0.38       212\n",
      "           1       0.73      0.37      0.49       565\n",
      "\n",
      "    accuracy                           0.44       777\n",
      "   macro avg       0.50      0.50      0.44       777\n",
      "weighted avg       0.60      0.44      0.46       777\n",
      "\n",
      "--------------------------------------------------\n"
     ]
    },
    {
     "name": "stderr",
     "output_type": "stream",
     "text": [
      "/opt/anaconda3/lib/python3.11/site-packages/sklearn/cluster/_kmeans.py:870: FutureWarning: The default value of `n_init` will change from 10 to 'auto' in 1.4. Set the value of `n_init` explicitly to suppress the warning\n",
      "  warnings.warn(\n"
     ]
    }
   ],
   "source": [
    "df.loc['Cazenovia College', 'Grad.Rate'] = 100\n",
    "\n",
    "# Convert 'Private' column to numerical values\n",
    "df['Private'] = df['Private'].apply(lambda x: 1 if x == 'Yes' else 0)\n",
    "\n",
    "# Define a function to perform scaling, KMeans clustering, and evaluation\n",
    "def perform_kmeans(data, drop_columns):\n",
    "    scaler = StandardScaler()\n",
    "    reduced_df = data.drop(drop_columns + ['Private'], axis=1)  # Drop selected columns and 'Private'\n",
    "    scaled_data = scaler.fit_transform(reduced_df)\n",
    "\n",
    "    # Apply KMeans\n",
    "    kmeans = KMeans(n_clusters=2)\n",
    "    kmeans.fit(scaled_data)\n",
    "\n",
    "    # Add cluster predictions to the DataFrame\n",
    "    data['Cluster'] = kmeans.labels_\n",
    "\n",
    "    # Evaluate the performance\n",
    "    print(f\"Removed Features: {drop_columns}\")\n",
    "    print(confusion_matrix(data['Private'], data['Cluster']))\n",
    "    print(classification_report(data['Private'], data['Cluster']))\n",
    "    print('-' * 50)\n",
    "\n",
    "# Test cases: 10 feature removal scenarios\n",
    "feature_removals = [\n",
    "    ['Top10perc'],\n",
    "    ['Top25perc'],\n",
    "    ['Room.Board'],\n",
    "    ['F.Undergrad'],\n",
    "    ['P.Undergrad'],\n",
    "    ['Books'],\n",
    "    ['S.F.Ratio'],\n",
    "    ['PhD'],\n",
    "    ['Expend'],\n",
    "    ['Personal', 'perc.alumni']\n",
    "]\n",
    "\n",
    "# Loop through each feature removal case and evaluate\n",
    "for features in feature_removals:\n",
    "    perform_kmeans(df.copy(), features)\n",
    "\n",
    "# Try removing various columns (features) from the dataset and examin if it improves/degrades your K-Means model performance, or it may have little impact."
   ]
  },
  {
   "cell_type": "markdown",
   "metadata": {},
   "source": [
    "# Report 10 cases where you removed one or more features and indicate how it impacted the model performance.\n",
    "Above are the 10 cases where one feature was removed for each intsance. The accuracy of the model is the lowest when 'Top10perc' feature is removed and the highest when the 'Top25perc' is removed. "
   ]
  }
 ],
 "metadata": {
  "kernelspec": {
   "display_name": "Python 3 (ipykernel)",
   "language": "python",
   "name": "python3"
  },
  "language_info": {
   "codemirror_mode": {
    "name": "ipython",
    "version": 3
   },
   "file_extension": ".py",
   "mimetype": "text/x-python",
   "name": "python",
   "nbconvert_exporter": "python",
   "pygments_lexer": "ipython3",
   "version": "3.11.7"
  }
 },
 "nbformat": 4,
 "nbformat_minor": 4
}
