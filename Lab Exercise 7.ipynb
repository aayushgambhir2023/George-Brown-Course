{
 "cells": [
  {
   "cell_type": "code",
   "execution_count": null,
   "metadata": {},
   "outputs": [],
   "source": [
    "''' Group 8 members Goknur Caglar Keezum Tenzing Bhutia Ines Fathallah Laila Habibi Lai Cheuk Fung Chan Yin Wan Vignesh Sekaran Abhinav Gautam Aayush Gambhir Jaskaran '''"
   ]
  },
  {
   "cell_type": "markdown",
   "metadata": {},
   "source": [
    "<p style=\"font-family: Arial; font-size:3em;color:black;\"> Lab Exercise 7</p>"
   ]
  },
  {
   "cell_type": "markdown",
   "metadata": {},
   "source": [
    "We will use the titanic dataset from Kaggle (https://www.kaggle.com/). This is a well-known dataset and we will use it for classification- if the passenger survived or passed away."
   ]
  },
  {
   "cell_type": "code",
   "execution_count": 1,
   "metadata": {},
   "outputs": [],
   "source": [
    "import pandas as pd\n",
    "import numpy as np\n",
    "import matplotlib.pyplot as plt\n",
    "%matplotlib inline\n",
    "from sklearn.model_selection import train_test_split\n",
    "from sklearn.linear_model import SGDClassifier\n",
    "from sklearn.preprocessing import MinMaxScaler\n",
    "from sklearn.metrics import classification_report"
   ]
  },
  {
   "cell_type": "code",
   "execution_count": 2,
   "metadata": {},
   "outputs": [],
   "source": [
    "training_DF = pd.read_csv('titanic_dataset_GBC.csv')"
   ]
  },
  {
   "cell_type": "code",
   "execution_count": 3,
   "metadata": {},
   "outputs": [],
   "source": [
    "training_DF['Age'].fillna(training_DF['Age'].mean(), inplace=True)"
   ]
  },
  {
   "cell_type": "code",
   "execution_count": 4,
   "metadata": {},
   "outputs": [],
   "source": [
    "training_DF.drop('Cabin',axis=1,inplace=True)"
   ]
  },
  {
   "cell_type": "code",
   "execution_count": 5,
   "metadata": {},
   "outputs": [],
   "source": [
    "training_DF.dropna(inplace=True)"
   ]
  },
  {
   "cell_type": "code",
   "execution_count": 6,
   "metadata": {},
   "outputs": [],
   "source": [
    "sex = pd.get_dummies(training_DF['Sex'])\n",
    "embark = pd.get_dummies(training_DF['Embarked'])"
   ]
  },
  {
   "cell_type": "code",
   "execution_count": 7,
   "metadata": {},
   "outputs": [],
   "source": [
    "training_DF.drop(['Sex','Embarked','Name','Ticket'],axis=1,inplace=True)"
   ]
  },
  {
   "cell_type": "code",
   "execution_count": 8,
   "metadata": {},
   "outputs": [],
   "source": [
    "training_DF = pd.concat([training_DF,sex,embark],axis=1)"
   ]
  },
  {
   "cell_type": "code",
   "execution_count": 9,
   "metadata": {},
   "outputs": [],
   "source": [
    "training_DF.drop(['female','C'],axis=1,inplace=True)"
   ]
  },
  {
   "cell_type": "code",
   "execution_count": 10,
   "metadata": {},
   "outputs": [],
   "source": [
    "from sklearn.model_selection import train_test_split"
   ]
  },
  {
   "cell_type": "code",
   "execution_count": 11,
   "metadata": {},
   "outputs": [],
   "source": [
    "X_train, X_test, y_train, y_test = train_test_split(training_DF.drop('Survived',axis=1), \n",
    "                                                    training_DF['Survived'], test_size=0.30, \n",
    "                                                    random_state=101)"
   ]
  },
  {
   "cell_type": "code",
   "execution_count": 12,
   "metadata": {},
   "outputs": [],
   "source": [
    "from sklearn.linear_model import SGDClassifier\n",
    "from sklearn.preprocessing import MinMaxScaler\n",
    "\n",
    "scaler = MinMaxScaler()\n",
    "X_train = scaler.fit_transform(X_train)"
   ]
  },
  {
   "cell_type": "code",
   "execution_count": 13,
   "metadata": {},
   "outputs": [
    {
     "data": {
      "text/plain": [
       "\"\\nSGDClassifier(\\n    loss='hinge',\\n    penalty='l2',\\n    alpha=0.0001,\\n    l1_ratio=0.15,\\n    fit_intercept=True,\\n    max_iter=1000,\\n    tol=0.001,\\n    shuffle=True,\\n    verbose=0,\\n    epsilon=0.1,\\n    n_jobs=None,\\n    random_state=None,\\n    learning_rate='optimal',\\n    eta0=0.0,\\n    power_t=0.5,\\n    early_stopping=False,\\n    validation_fraction=0.1,\\n    n_iter_no_change=5,\\n    class_weight=None,\\n    warm_start=False,\\n    average=False,\\n)\\n\""
      ]
     },
     "execution_count": 13,
     "metadata": {},
     "output_type": "execute_result"
    }
   ],
   "source": [
    "# let's explore SGDClassifier parameters\n",
    "\n",
    "'''\n",
    "SGDClassifier(\n",
    "    loss='hinge',\n",
    "    penalty='l2',\n",
    "    alpha=0.0001,\n",
    "    l1_ratio=0.15,\n",
    "    fit_intercept=True,\n",
    "    max_iter=1000,\n",
    "    tol=0.001,\n",
    "    shuffle=True,\n",
    "    verbose=0,\n",
    "    epsilon=0.1,\n",
    "    n_jobs=None,\n",
    "    random_state=None,\n",
    "    learning_rate='optimal',\n",
    "    eta0=0.0,\n",
    "    power_t=0.5,\n",
    "    early_stopping=False,\n",
    "    validation_fraction=0.1,\n",
    "    n_iter_no_change=5,\n",
    "    class_weight=None,\n",
    "    warm_start=False,\n",
    "    average=False,\n",
    ")\n",
    "'''\n",
    "\n",
    "# Let's form SGD models with variation in paameters loss and alpha\n",
    "    # loss: 'hinge', 'log', and 'modified_huber'\n",
    "    # alpha: 0.0001 and 0.001\n",
    "    # explain and dicuss your findings"
   ]
  },
  {
   "cell_type": "code",
   "execution_count": 14,
   "metadata": {},
   "outputs": [
    {
     "name": "stdout",
     "output_type": "stream",
     "text": [
      "\n",
      "Training SGDClassifier with loss='hinge' and alpha=0.0001\n",
      "              precision    recall  f1-score   support\n",
      "\n",
      "           0       0.86      0.82      0.84       163\n",
      "           1       0.73      0.79      0.76       104\n",
      "\n",
      "    accuracy                           0.81       267\n",
      "   macro avg       0.80      0.80      0.80       267\n",
      "weighted avg       0.81      0.81      0.81       267\n",
      "\n",
      "\n",
      "Training SGDClassifier with loss='hinge' and alpha=0.001\n",
      "              precision    recall  f1-score   support\n",
      "\n",
      "           0       0.80      0.90      0.85       163\n",
      "           1       0.80      0.65      0.72       104\n",
      "\n",
      "    accuracy                           0.80       267\n",
      "   macro avg       0.80      0.77      0.78       267\n",
      "weighted avg       0.80      0.80      0.80       267\n",
      "\n",
      "\n",
      "Training SGDClassifier with loss='log' and alpha=0.0001\n",
      "              precision    recall  f1-score   support\n",
      "\n",
      "           0       0.75      0.99      0.85       163\n",
      "           1       0.96      0.47      0.63       104\n",
      "\n",
      "    accuracy                           0.79       267\n",
      "   macro avg       0.85      0.73      0.74       267\n",
      "weighted avg       0.83      0.79      0.76       267\n",
      "\n",
      "\n",
      "Training SGDClassifier with loss='log' and alpha=0.001\n",
      "              precision    recall  f1-score   support\n",
      "\n",
      "           0       0.80      0.94      0.86       163\n",
      "           1       0.87      0.62      0.73       104\n",
      "\n",
      "    accuracy                           0.82       267\n",
      "   macro avg       0.83      0.78      0.79       267\n",
      "weighted avg       0.82      0.82      0.81       267\n",
      "\n",
      "\n",
      "Training SGDClassifier with loss='modified_huber' and alpha=0.0001\n",
      "              precision    recall  f1-score   support\n",
      "\n",
      "           0       0.68      1.00      0.81       163\n",
      "           1       1.00      0.25      0.40       104\n",
      "\n",
      "    accuracy                           0.71       267\n",
      "   macro avg       0.84      0.62      0.60       267\n",
      "weighted avg       0.80      0.71      0.65       267\n",
      "\n",
      "\n",
      "Training SGDClassifier with loss='modified_huber' and alpha=0.001\n",
      "              precision    recall  f1-score   support\n",
      "\n",
      "           0       0.74      0.98      0.84       163\n",
      "           1       0.92      0.47      0.62       104\n",
      "\n",
      "    accuracy                           0.78       267\n",
      "   macro avg       0.83      0.72      0.73       267\n",
      "weighted avg       0.81      0.78      0.76       267\n",
      "\n"
     ]
    },
    {
     "name": "stderr",
     "output_type": "stream",
     "text": [
      "/opt/anaconda3/lib/python3.11/site-packages/sklearn/linear_model/_stochastic_gradient.py:163: FutureWarning: The loss 'log' was deprecated in v1.1 and will be removed in version 1.3. Use `loss='log_loss'` which is equivalent.\n",
      "  warnings.warn(\n",
      "/opt/anaconda3/lib/python3.11/site-packages/sklearn/linear_model/_stochastic_gradient.py:163: FutureWarning: The loss 'log' was deprecated in v1.1 and will be removed in version 1.3. Use `loss='log_loss'` which is equivalent.\n",
      "  warnings.warn(\n"
     ]
    }
   ],
   "source": [
    "# Define SGDClassifier models with different parameters\n",
    "params = [\n",
    "    {'loss': 'hinge', 'alpha': 0.0001},\n",
    "    {'loss': 'hinge', 'alpha': 0.001},\n",
    "    {'loss': 'log', 'alpha': 0.0001},\n",
    "    {'loss': 'log', 'alpha': 0.001},\n",
    "    {'loss': 'modified_huber', 'alpha': 0.0001},\n",
    "    {'loss': 'modified_huber', 'alpha': 0.001}\n",
    "]\n",
    "\n",
    "# Train and evaluate SGDClassifier models\n",
    "for param in params:\n",
    "    print(f\"\\nTraining SGDClassifier with loss='{param['loss']}' and alpha={param['alpha']}\")\n",
    "    sgd_clf = SGDClassifier(loss=param['loss'], alpha=param['alpha'], random_state=42)\n",
    "    sgd_clf.fit(X_train, y_train)\n",
    "    y_pred = sgd_clf.predict(scaler.transform(X_test))\n",
    "    \n",
    "    # Evaluate model\n",
    "    print(classification_report(y_test, y_pred))"
   ]
  }
 ],
 "metadata": {
  "kernelspec": {
   "display_name": "Python 3 (ipykernel)",
   "language": "python",
   "name": "python3"
  },
  "language_info": {
   "codemirror_mode": {
    "name": "ipython",
    "version": 3
   },
   "file_extension": ".py",
   "mimetype": "text/x-python",
   "name": "python",
   "nbconvert_exporter": "python",
   "pygments_lexer": "ipython3",
   "version": "3.11.7"
  }
 },
 "nbformat": 4,
 "nbformat_minor": 4
}
